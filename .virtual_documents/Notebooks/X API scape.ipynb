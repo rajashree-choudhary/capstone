pip install ntscraper


from ntscraper import Nitter


scraper = Nitter(log_level = 1, skip_instance_check = False)


scraper.get_tweets("Healthyfood", mode="hashtag", number=100)





si = SentimentIntensityAnalyzer()


def load_api_key():
    """Load Yelp API client ID and client secret and return them as a dictionary."""
    with open() as f:
        return yaml.load(f)
    
key = load_api_key()






