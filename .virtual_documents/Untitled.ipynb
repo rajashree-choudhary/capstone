pip install tweepy


import tweepy
import urllib.request
from bs4 import BeautifulSoup
import matplotlib.pyplot as plt

healthyfood = []

#connect to twitter
consumer_key="dLPPgGsVp2fTPlp920Stp2s3I"
consumer_key_secret="bghYaUNliIvTvG75SQPXAqWbKRkLRbUN2SFMxiVJnxPXqedxwR"

access_token="1713615405930188800-ZYJLqvgnL9L77xPkuHAccIs2UXzjc3"
access_token_secret="nuzKf2JmyvwOwxlIJikpKvWHklPsqdgo8uvaaqt4FZZnf"
auth = tweepy.OAuthHandler(consumer_key,consumer_key_secret)
auth.set_access_token(access_token,access_token_secret)

api=tweepy.API(auth)

file_path = "../scrape_data/output.txt"

tweet_polarity= []
public_tweets= api.search_tweets(q="healthyfood",count=100)
for tweets in public_tweets:
    analysis=(str(tweets.text))
    with open(file_path, "w") as file:
        file.write(analysis)
    


pip install searchtweets


from searchtweets import ResultStream, gen_rule_payload, load_credentials


load_credentials(filename="~/.twitter_keys.yaml",
                 yaml_key="search_tweets_30_day_prod",
                 env_overwrite=False)


premium_search_args = load_credentials("~/.twitter_keys.yaml",
                                       yaml_key="search_tweets_30_day_prod",
                                       env_overwrite=False)


rule = gen_rule_payload("healthyfood", results_per_call=100) # testing with a sandbox account
print(rule)


from searchtweets import collect_results


tweets = collect_results(rule,
                         max_results=100,
                         result_stream_args=premium_search_args) # change this if you need to












