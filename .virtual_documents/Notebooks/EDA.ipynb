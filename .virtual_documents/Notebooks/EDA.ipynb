#imports


import pandas as pd
import numpy as np
import seaborn as sns
import matplotlib.pyplot as plt
color = '#5D7963'
#warnings
import warnings
warnings.filterwarnings("ignore")








df = pd.read_csv('../csv_data/food_access_data.csv')


df.head()


df.columns


df.dtypes


df.isna().sum()


df.shape


# Handle missing values
# For numeric columns, you can replace missing values with the mean or median
numeric_cols = ['Pop2010', 'OHU2010', 'NUMGQTRS', 'PCTGQTRS', 'PovertyRate', 'MedianFamilyIncome']
for col in numeric_cols:
    df[col].fillna(df[col].median(), inplace=True)


# For categorical columns, you can replace missing values with the mode
categorical_cols = ['Urban', 'GroupQuartersFlag', 'LILATracts_1And10', 'LILATracts_halfAnd10', 'HUNVFlag', 'LowIncomeTracts']
for col in categorical_cols:
    df[col].fillna(df[col].mode()[0], inplace=True)





df.describe()


# Pairplot to visualize pairwise relationships in the dataset
sns.pairplot(df[['Pop2010', 'MedianFamilyIncome', 'PovertyRate']])
plt.title('Pairplot of Numeric Variables')
plt.show()





# Update the aggregation to include new features
county_aggregation = df.groupby(['State', 'County']).agg({
    'CensusTract': 'first',  # Capture the first CensusTract value for each county
    'Pop2010': 'sum', # Total population per county
    'OHU2010': 'sum', # Total occupied housing units per county
    'PovertyRate': 'mean',  # Average poverty rate per county
    'MedianFamilyIncome': 'mean',  # Average median family income per county
    'LowIncomeTracts': 'sum',  # Sum of low-income tracts per county
    'LILATracts_1And10': 'sum',  # Sum of low-income and low-access tracts per county
    'LALOWI1_10': 'sum',  # Total low-income population with low access at 1 & 10 miles
    'TractSNAP': 'sum',  # Total housing units receiving SNAP benefits
    'TractHUNV': 'sum',  # Total housing units without a vehicle
    'lapop1': 'sum',  # Population beyond 1 mile from a supermarket
    'lapop10': 'sum',  # Population beyond 10 miles from a supermarket
    'TractKids': 'sum',  # Total count of children age 0-17
    'TractSeniors': 'sum',  # Total count of seniors age 65+
    'TractWhite': 'sum',  # Total count of White population
    'TractBlack': 'sum',  # Total count of Black or African American population
    'TractAsian': 'sum',  # Total count of Asian population
    'TractHispanic': 'sum',  # Total count of Hispanic or Latino population
}).reset_index()

# Add percentage columns for households without a vehicle and demographic breakdowns
county_aggregation['PctHUNV'] = (county_aggregation['TractHUNV'] / county_aggregation['OHU2010']) * 100
county_aggregation['PctKids'] = (county_aggregation['TractKids'] / county_aggregation['Pop2010']) * 100
county_aggregation['PctSeniors'] = (county_aggregation['TractSeniors'] / county_aggregation['Pop2010']) * 100
county_aggregation['PctWhite'] = (county_aggregation['TractWhite'] / county_aggregation['Pop2010']) * 100
county_aggregation['PctBlack'] = (county_aggregation['TractBlack'] / county_aggregation['Pop2010']) * 100
county_aggregation['PctAsian'] = (county_aggregation['TractAsian'] / county_aggregation['Pop2010']) * 100
county_aggregation['PctHispanic'] = (county_aggregation['TractHispanic'] / county_aggregation['Pop2010']) * 100

# Preview the updated county aggregation
county_aggregation.head()





county_aggregation.to_csv('../csv_data/county.csv')





sns.set(style="darkgrid")  # Set the style for seaborn plots

plt.figure(figsize=(14, 8))  # Set the figure size

columns_to_plot = [
    'TractWhite',
    'TractBlack',
    'TractAsian',
    'TractNHOPI',
    'TractAIAN',
    'TractOMultir',
    'TractHispanic',
    'TractHUNV',
    'TractSNAP'
]

# Loop through each column and create a histogram subplot
for column in columns_to_plot:
    sns.histplot(df[column], kde=True, color='skyblue', alpha=0.7)  # Plot histogram
    plt.title('Distribution of Various Ethnicities and Social Indicators', fontsize=16)  # Add title
    plt.xlabel('Frequency', fontsize=14)  # Label x-axis
    plt.ylabel('Density', fontsize=14)  # Label y-axis
    plt.xticks(fontsize=12)  # Adjust font size of x-axis ticks
    plt.yticks(fontsize=12)  # Adjust font size of y-axis ticks
    plt.grid(axis='y', linestyle='--', alpha=0.7)  # Add grid lines for better readability

plt.legend(columns_to_plot, loc='upper right')  # Add legend
plt.tight_layout()  # Adjust layout to prevent overlapping elements
plt.show();


sns.set(style="darkgrid")  # Set the style for seaborn plots

for column in ['Pop2010', 'PovertyRate', 'MedianFamilyIncome']:
    plt.figure(figsize=(8, 6))  # Set figure size
    sns.histplot(df[column], kde=True, color='black')  # Change color to salmon
    plt.title(f'Distribution of {column}', fontsize=16)  # Increase font size for title
    plt.xlabel(column, fontsize=14)  # Label x-axis with column name
    plt.ylabel('Frequency', fontsize=14)  # Label y-axis
    plt.xticks(fontsize=12)  # Adjust font size of x-axis ticks
    plt.yticks(fontsize=12)  # Adjust font size of y-axis ticks
    plt.grid(axis='y', linestyle='--', alpha=0.7)  # Add grid lines for better readability
    plt.tight_layout()  # Adjust layout to prevent overlapping elements
    plt.show()


# Set the style of the plots
sns.set_style("darkgrid")

# Visualization 1: Distribution of Median Family Income across Counties
plt.figure(figsize=(12, 6))
sns.histplot(county_aggregation['MedianFamilyIncome'], bins=30, kde=True, color='blue')
plt.title('Distribution of Median Family Income Across Counties')
plt.xlabel('Median Family Income')
plt.ylabel('Number of Counties')
plt.axvline(county_aggregation['MedianFamilyIncome'].mean(), color='red', linestyle='--', label='Mean Income')
plt.legend()
plt.show()


# Visualization 2: Relationship between Poverty Rates and Low-Access Indicators across Counties
plt.figure(figsize=(12, 6))
sns.scatterplot(data=county_aggregation, x='PovertyRate', y='LILATracts_1And10', hue='MedianFamilyIncome', size='Pop2010', sizes=(50, 200), alpha=0.6, palette="coolwarm")
plt.title('Relationship between Poverty Rate and Low-Access Indicators Across Counties')
plt.xlabel('Poverty Rate (%)')
plt.ylabel('Number of Low-Access Tracts')
plt.legend(title='Median Family Income & Population', loc='upper right')
plt.grid(True)
plt.show()


# Visualization 3: Prevalence of Low-Income and Low-Access Tracts by State

# Aggregating by state for this visualization
state_grouped = county_aggregation.groupby('State').agg({
    'LowIncomeTracts': 'sum',
    'LILATracts_1And10': 'sum'
}).reset_index()

plt.figure(figsize=(14, 8))
state_grouped = state_grouped.sort_values('LILATracts_1And10', ascending=False)
sns.barplot(data=state_grouped, x='LILATracts_1And10', y='State', palette='viridis')
plt.title('Prevalence of Low-Income and Low-Access Tracts by State')
plt.xlabel('Number of Low-Income and Low-Access Tracts')
plt.ylabel('State')
plt.show();


# Visualization 4: Percentage of Households Without Vehicles Across Counties
plt.figure(figsize=(12, 6))
sns.histplot(county_aggregation['PctHUNV'], bins=30, kde=True, color='green')
plt.title('Distribution of Households Without Vehicles Across Counties')
plt.xlabel('Percentage of Households Without Vehicles')
plt.ylabel('Number of Counties')
plt.axvline(county_aggregation['PctHUNV'].mean(), color='red', linestyle='--', label='Mean Percentage')
plt.legend()
plt.show()


# Visualization 5: Demographic Breakdown - Children and Seniors
plt.figure(figsize=(12, 6))
sns.scatterplot(data=county_aggregation, x='PctKids', y='PctSeniors', hue='PctHUNV', size='Pop2010', sizes=(50, 200), palette="magma", alpha=0.6)
plt.title('Percentage of Children vs. Seniors Across Counties')
plt.xlabel('Percentage of Children (Age 0-17)')
plt.ylabel('Percentage of Seniors (Age 65+)')
plt.legend(title='Households Without Vehicles & Population', loc='upper right')
plt.grid(True)
plt.show()


# Visualization 6: Racial/Ethnic Composition - Percentage of Hispanic or Latino Population
plt.figure(figsize=(14, 8))
ax = sns.barplot(data=county_aggregation.sort_values('PctHispanic', ascending=False).head(10), x='PctHispanic', y='County', hue='State', dodge=False, palette='rocket')
plt.title('Top 10 Counties with Highest Percentage of Hispanic or Latino Population')
plt.xlabel('Percentage of Hispanic or Latino Population')
plt.ylabel('County')
plt.legend(title='State', loc='lower right')

# Annotate each bar with its corresponding percentage
for p in ax.patches:
    ax.annotate(f'{p.get_width():.2f}%', ((p.get_width() + 1), p.get_y() + p.get_height()/2), ha='center', va='center', xytext=(10, 0), textcoords='offset points')

plt.show()



# Visualization 6: Racial/Ethnic Composition - Percentage of Hispanic or Latino Population
plt.figure(figsize=(14, 8))
sns.barplot(data=county_aggregation.sort_values('PctHispanic', ascending=False).head(10), x='PctHispanic', y='County', hue='State', dodge=False, palette='rocket')
plt.title('Top 10 Counties with Highest Percentage of Hispanic or Latino Population')
plt.xlabel('Percentage of Hispanic or Latino Population')
plt.ylabel('County')
plt.legend(title='State', loc='lower right')
plt.show()


# Identifying counties with the highest and lowest number of low-access tracts
highest_low_access = county_aggregation.sort_values('LILATracts_1And10', ascending=False).head(10)
lowest_low_access = county_aggregation.sort_values('LILATracts_1And10', ascending=True).head(10)

# Visualization 7: Highest Low-Access Tracts
plt.figure(figsize=(12, 6))
sns.barplot(data=highest_low_access, x='LILATracts_1And10', y='County', hue='State', dodge=False, palette='rocket')
plt.title('Top 10 Counties with Highest Number of Low-Access Tracts')
plt.xlabel('Number of Low-Access Tracts')
plt.ylabel('County')
plt.legend(title='State', loc='lower right')
plt.show()


# Visualization 8: Lowest Low-Access Tracts
plt.figure(figsize=(12, 6))
sns.barplot(data=lowest_low_access, x='LILATracts_1And10', y='County', hue='State', dodge=False, palette='icefire')
plt.title('Top 10 Counties with Lowest Number of Low-Access Tracts')
plt.xlabel('Number of Low-Access Tracts')
plt.ylabel('County')
plt.legend(title='State', loc='lower right')
plt.show()


# Summary statistics for counties with the highest and lowest number of low-access tracts
features = ['MedianFamilyIncome', 'PovertyRate', 'PctHUNV', 'PctKids', 'PctSeniors', 'PctWhite', 'PctBlack', 'PctAsian', 'PctHispanic']
summary_high = highest_low_access[features].mean().reset_index()
summary_low = lowest_low_access[features].mean().reset_index()

summary_high.columns = ['Feature', 'High Low-Access Avg']
summary_low.columns = ['Feature', 'Low Low-Access Avg']

# Merging the summaries for comparison
summary_comparison = pd.merge(summary_high, summary_low, on='Feature')

# Visualization: Comparing Features of High vs. Low Low-Access Tracts Counties
plt.figure(figsize=(10, 8))
for feature in features:
    plt.plot(summary_comparison['Feature'], summary_comparison['High Low-Access Avg'], label='High Low-Access Avg', color='red', marker='o')
    plt.plot(summary_comparison['Feature'], summary_comparison['Low Low-Access Avg'], label='Low Low-Access Avg', color='blue', marker='x')
    plt.legend(["High Low-Access Avg", "Low Low-Access Avg"])
    plt.xticks(rotation=45, ha="right")
    plt.ylabel('Average Value')
    plt.title('Comparison of County Features: High vs. Low Low-Access Tracts')
    plt.tight_layout()

plt.show()


# Let's create individual visualizations for a clearer comparison between the features of high vs. low low-access tract counties.

# Function to create side-by-side bar plots for comparison
def plot_feature_comparison(feature, title, y_label):
    fig, ax = plt.subplots(figsize=(8, 5))
    index = np.arange(2)
    bar_width = 0.35
    opacity = 0.8

    values = [summary_comparison[summary_comparison['Feature'] == feature]['High Low-Access Avg'].values[0],
              summary_comparison[summary_comparison['Feature'] == feature]['Low Low-Access Avg'].values[0]]

    rects1 = plt.bar(index, values, bar_width,
                     alpha=opacity,
                     color=['orange', 'green'],
                     label=['High Low-Access', 'Low Low-Access'])

    plt.xlabel('County Type')
    plt.ylabel(y_label)
    plt.title(title)
    plt.xticks(index, ['High Low-Access', 'Low Low-Access'])
    plt.legend()

    plt.tight_layout()
    plt.show()

# Plot comparisons for selected features
plot_feature_comparison('MedianFamilyIncome', 'Comparison of Median Family Income', 'Median Family Income ($)')
plot_feature_comparison('PovertyRate', 'Comparison of Poverty Rates', 'Poverty Rate (%)')
plot_feature_comparison('PctHUNV', 'Comparison of Households Without Vehicles', 'Percentage (%)')
plot_feature_comparison('PctKids', 'Comparison of Child Population', 'Percentage (%)')
plot_feature_comparison('PctSeniors', 'Comparison of Senior Population', 'Percentage (%)')








county = pd.read_csv('../csv_data/county.csv')


county.head(2)


county.isna().sum()


county.info


county = county.loc[:, ~county.columns.str.contains('^Unnamed')]


county.head()


county_aggregation['is_food_desert'] = ((county['LowIncomeTracts'] > 0) & (county['LILATracts_1And10'] > 0)).astype(int)


# Distribution of key features
for column in ['PovertyRate', 'MedianFamilyIncome']:
    sns.histplot(county_aggregation[column], kde=True)
    plt.title(f'Distribution of {column}')
    plt.show()


# Drop non-numeric columns
numeric_columns = county_aggregation.select_dtypes(include=['float64', 'int64']).columns
numeric_df = county_aggregation[numeric_columns]

# Generated a mask for the upper triangle
mask = np.triu(np.ones_like(numeric_df.corr(), dtype=bool))

fig, ax = plt.subplots(figsize=(20, 20)) 

# Create a heatmap
sns.heatmap(numeric_df.corr(), mask=mask, annot=False, cmap='coolwarm', 
            vmax=1, center=0, square=True, linewidths=.5, cbar_kws={"shrink": .5},
            fmt=".2f", ax=ax) #Ref: https://seaborn.pydata.org/generated/seaborn.heatmap.html

# Improve the layout
plt.subplots_adjust(top=0.9)
plt.title('Correlation Matrix of Variables', fontsize=20)
ax.tick_params(labelsize=10) 

plt.show()








# Visualization 1: Distribution of Median Family Income across Counties
plt.figure(figsize=(12, 6))
sns.histplot(county_aggregation['MedianFamilyIncome'], bins=30, kde=True, palette='viridis')
plt.title('Distribution of Median Family Income Across Counties')
plt.xlabel('Median Family Income')
plt.ylabel('Number of Counties')
plt.axvline(county['MedianFamilyIncome'].mean(), color='red', linestyle='--', label='Mean Income')
plt.legend()
plt.show()


# Visualization 2: Relationship between Poverty Rates and Food Deserts across Counties
sns.violinplot(x='is_food_desert', y='PovertyRate', data=county_aggregation, palette='viridis')
plt.title('Violin Plot of Poverty Rate by Food Desert Status')
plt.xlabel('Is Food Desert')
plt.ylabel('Poverty Rate')
plt.xticks([0,1], ['No', 'Yes'])
plt.show()


# Visualization 3: Horizontal Bar Chart of Food Desert Counts by State

food_desert_counts = county_aggregation.groupby('State')['is_food_desert'].value_counts().unstack()

# Calculate the total number of areas (food desert and non-food desert) for each state
food_desert_counts['Total'] = food_desert_counts.sum(axis=1)

# Sort the DataFrame based on the 'Total' column, in descending order
food_desert_counts_sorted = food_desert_counts.sort_values(by='Total', ascending=False)

# Drop the 'Total' column
food_desert_counts_sorted = food_desert_counts_sorted.drop(columns='Total')

food_desert_counts_sorted.plot(kind='barh', stacked=True, figsize= (8, 7))
plt.title('Number of Food Desert vs Non-Food Desert Areas by State')
plt.xlabel('Count', fontsize=12)
plt.ylabel('State')
plt.yticks(fontsize=8, rotation=15)
plt.legend(title='Is Food Desert', labels=['No', 'Yes'])
plt.tight_layout()
plt.show();





#will use this df for modeling
county_aggregation.to_csv('../csv_data/county_aggr.csv')





#food data and health data together
df = pd.read_csv('../csv_data/final_df.csv')


df.shape


df.dtypes


df.head()


df.columns


# Pairplot to visualize pairwise relationships in the dataset
sns.pairplot(df[['Population2010', 'MedianFamilyIncome', 'PovertyRate', 'target']],
            plot_kws=dict(marker="+", linewidth=1),
    diag_kws=dict(fill=False))
plt.title('Pairplot of Numeric Variables')
plt.show()


# Population Distribution - Histogram
plt.hist(df['Population2010'], bins=100, color= color, edgecolor='black')
plt.xlabel('Population')
plt.ylabel('Frequency')
plt.title('Population Distribution (2010)')
plt.grid(True, linestyle='--', alpha=0.7)
plt.show()


# Bar Plot for Age group
age_groups = ['Kids', 'Seniors']
percentages = [df['Percent_Kids'].mean(), df['Percent_Seniors'].mean()]

# Bar Plot
sns.barplot(x=age_groups, y=percentages, palette='mako')
plt.xlabel('Age Group')
plt.ylabel('Percentage')
plt.title('Percentage of Kids and Seniors')
plt.grid(axis='y', linestyle='--', alpha=0.7)
plt.show()


# Urban vs. Rural Comparison - Box Plot
plt.figure(figsize=(8, 6))
sns.boxplot(x='Urban', y='CANCER_CrudePrev', data=df, palette=[color, color])
plt.xlabel('Urban/Rural', fontsize=14)
plt.ylabel('Cancer Prevalence', fontsize=14)
plt.title('Cancer Prevalence in Urban vs. Rural Areas', fontsize=16)
plt.xticks(fontsize=12)
plt.yticks(fontsize=12)
plt.grid(axis='y', linestyle='--', alpha=0.5)
plt.show()


# Health Disparities - Box Plot
plt.figure(figsize=(8, 6))
sns.boxplot(x='HealthDisparity_Black_White', y='CANCER_CrudePrev', data=df, palette=[color, color])
plt.xlabel('Health Disparity (Black vs. White)', fontsize=14)
plt.ylabel('Cancer Prevalence', fontsize=14)
plt.title('Cancer Prevalence by Health Disparity', fontsize=16)
plt.xticks(fontsize=12)
plt.yticks(fontsize=12)
plt.grid(axis='y', linestyle='--', alpha=0.5)
plt.show()






