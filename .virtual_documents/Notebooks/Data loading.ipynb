import pandas as pd


df = pd.ExcelFile('../Data/FoodAccessResearchAtlasData2019.xlsx')





sheet_names = df.sheet_names


sheet_names


food_data = df.parse(2)


food_data.head()


food_data.shape


food_data.describe()


health_global = pd.read_csv('../Data/500_Cities__View_a_city_s_census_tract_data__GIS_friendly_data_.csv')


health_global.head()


state_data = pd.read_csv('../Data/state_data.csv')


state_data.head()


grocery_stores = pd.read_csv('../Data/Grocery_Stores.csv')


grocery_stores.head()


grocery_stores.shape


consumer_exp = pd.ExcelFile('../Data/consumer_exp.xlsx')


sheet_names = consumer_exp.sheet_names


sheet_names



# Replace 'input_file.xlsx' with the path to your Excel file
# Replace 'output_file.csv' with the desired name and path for your CSV file
input_file = 'Data/consumer_exp.xlsx'
output_file = 'csv_data/consumer_exp.csv'

# Read the Excel file into a pandas DataFrame
data = pd.read_excel(input_file)

# Write the DataFrame to a CSV file
data.to_csv(output_file, index=False)

print("Excel file converted to CSV successfully!")



consumer_exp.head()
