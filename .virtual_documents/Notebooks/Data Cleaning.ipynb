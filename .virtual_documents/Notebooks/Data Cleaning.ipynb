


import pandas as pd
import numpy as np
import seaborn as sns
import matplotlib.pyplot as plt






food_access = pd.read_csv('../csv_data/food_access_data.csv')


food_access.head()


food_access.shape


food_access.describe()


food_access.isna().sum()


food_access.dtypes


column_names = food_access.columns.tolist()
print(column_names)


food_access.set_index('CensusTract', inplace=True)
target_df = food_access[['LILATracts_halfAnd10']]
target_df.head()


target_df.to_csv('../csv_data/target_df.csv')


food_access = food_access[['OHU2010', 'PovertyRate', 'MedianFamilyIncome', 'TractKids','TractSeniors','TractWhite','TractBlack','TractAsian', 
         'TractNHOPI','TractAIAN','TractOMultir','TractHispanic','TractHUNV','TractSNAP']]
food_access = food_access.join(target_df)
food_access.head()


print(food_access.index)





health_stats = pd.read_csv('../Data/500_Cities__View_a_city_s_census_tract_data__GIS_friendly_data_.csv')
health_stats.head()


health_stats.set_index('TractFIPS', inplace=True)
health_stats.head()


combined_data = health_stats.join(food_access)
combined_data.head()


combined_data.shape


combined_data[combined_data['PlaceName'] == "New York"]


combined_data.shape


combined_data.rename(columns={'LILATracts_halfAnd10': 'target'}, inplace=True)
combined_data.head()





to_drop = [x for x in combined_data.columns if x[-2:] == "CI"]


combined_data.drop(columns=to_drop, inplace=True)
combined_data.head()


combined_data.shape


col_names = combined_data.columns.tolist()
print(col_names)





# List of demographic columns
demographic_columns = ['TractWhite', 'TractBlack', 'TractAsian', 'TractNHOPI', 'TractAIAN', 'TractOMultir', 'TractHispanic']

# Function to fix demographic columns to percentages
def fix_demographic_columns(combined_data, demographic_columns):
    for col in demographic_columns:
        new_col_name = "Percent_" + col
        combined_data[new_col_name] = combined_data[col] / combined_data['Population2010'] * 100
    return combined_data

# Apply the function
df = fix_demographic_columns(combined_data, demographic_columns)

# Drop the original count columns if needed
# df.drop(demographic_columns, axis=1, inplace=True)

# Display the updated DataFrame
df.head()


df.to_csv('../csv_data/final_df.csv')


df.columns


# Calculate correlation matrix
correlation_matrix = df.corr(numeric_only = True)

# Create heatmap
plt.figure(figsize=(12, 10))
sns.heatmap(correlation_matrix, annot=True, cmap='coolwarm', fmt=".2f", linewidths=0.5)
plt.title('Correlation Heatmap')
plt.show()



# Convert correlation matrix to DataFrame for better visualization
correlation_df = pd.DataFrame(correlation_matrix, columns=df.columns, index=df.columns)

# Display correlation table
correlation_df





#calculates the correlation matrix of numeric columns in the DataFrame 
#numeric_only=True ensures that only numeric columns are considered in the correlation calculation
#abs() takes the absolute values of all correlation coefficients
correlations = df.corr(numeric_only=True).abs()


upper = correlations.where(np.triu(np.ones(correlations.shape), k=1).astype('bool'))
potential_drop = [column for column in upper.columns if any(upper[column] > .90)]


potential_drop


abs(combined_data[potential_drop].corr())


# Extracting latitude and longitude from Geolocation
df['Latitude'] = df['Geolocation'].str.split(', ').str[0]
df['Longitude'] = df['Geolocation'].str.split(', ').str[1]


# Combining related features
df['Mean_PREV'] = df[['ACCESS2_CrudePrev', 'ARTHRITIS_CrudePrev', 'BINGE_CrudePrev']].mean(axis=1)
df['Mean_PREV']


# Calculating population density
df['PopulationDensity'] = df['Population2010'] / (df['TractWhite'] + df['TractBlack'] + df['TractAsian'])
df['PopulationDensity']


# Creating age group features
df['Percent_Kids'] = df['TractKids'] / df['Population2010']
df['Percent_Seniors'] = df['TractSeniors'] / df['Population2010']


df['Percent_Seniors']


df['Percent_Kids']


# Creating income-related features
df['PovertyRate_Percentage'] = df['PovertyRate'] * 100
df['MedianFamilyIncome_Log'] = np.log(df['MedianFamilyIncome'])


# Urban/Rural Classification
df['Urban'] = (df['OHU2010'] > 1000).astype(int)  # threshold of 1000 housing units for urban classification


# Health Disparities
df['HealthDisparity_Black_White'] = df['TractBlack'] - df['TractWhite']


# Healthcare Accessibility
df['HealthcareAccessibility'] = df['ACCESS2_CrudePrev'] / df['TractHUNV']


# Display the updated DataFrame
df.head()


df.to_csv('../csv_data/final_df.csv')


df.columns


# Before Feature Engineering


X = combined_data.drop(columns=['StateAbbr', 'PlaceName', 'PlaceFIPS', 'Place_TractID', 'target'])


test = combined_data.sample(n=500)
plt.figure(figsize=(20,20))
for i, val in enumerate(X.columns):
    plt.subplot(9, 5, i+1)
    plt.scatter(test[val], test.target)
    plt.title(val)
    plt.tight_layout()
    
plt.show();


# Summary statistics
print(combined_data.describe())

# Distribution of key features
for column in ['Population2010', 'PovertyRate', 'MedianFamilyIncome']:
    sns.histplot(combined_data[column], kde=True)
    plt.title(f'Distribution of {column}')
    plt.show()


# Set the style of the plots
sns.set_style("darkgrid")

# Visualization 1: Distribution of Median Family Income across Counties
plt.figure(figsize=(12, 6))
sns.histplot(combined_data['MedianFamilyIncome'], bins=30, kde=True, color='Green')
plt.title('Distribution of Median Family Income Across Counties')
plt.xlabel('Median Family Income')
plt.ylabel('Number of Counties')
plt.axvline(combined_data['MedianFamilyIncome'].mean(), color='red', linestyle='--', label='Mean Income')
plt.legend()
plt.savefig('../Images/Distribution of Median Family Income Across Counties.png', dpi=200, bbox_inches='tight')

plt.show()















