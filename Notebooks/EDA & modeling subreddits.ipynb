{
 "cells": [
  {
   "cell_type": "code",
   "execution_count": 48,
   "id": "a66c7f7b-d522-4578-bb0b-39ee4b2d96a5",
   "metadata": {},
   "outputs": [],
   "source": [
    "#imports\n",
    "import pandas as pd\n",
    "import numpy as np\n",
    "import seaborn as sns\n",
    "import matplotlib.pyplot as plt\n",
    "import os\n",
    "\n",
    "\n",
    "#sklearn\n",
    "from sklearn.model_selection import train_test_split, GridSearchCV\n",
    "from sklearn.metrics import classification_report, confusion_matrix\n",
    "from sklearn.linear_model import LogisticRegression\n",
    "from sklearn.neighbors import KNeighborsClassifier\n",
    "from sklearn.ensemble import RandomForestClassifier\n",
    "from sklearn.naive_bayes import MultinomialNB\n",
    "from sklearn.preprocessing import StandardScaler\n",
    "\n",
    "\n",
    "#nltk\n",
    "import nltk\n",
    "import re\n",
    "from nltk.corpus import stopwords\n",
    "from nltk.stem import WordNetLemmatizer\n",
    "from sklearn.feature_extraction.text import TfidfVectorizer\n",
    "\n",
    "#Ignore warnings\n",
    "from warnings import filterwarnings\n",
    "filterwarnings('ignore')"
   ]
  },
  {
   "cell_type": "code",
   "execution_count": 49,
   "id": "6569d622-8cee-4b3d-98c3-47ce5e980622",
   "metadata": {},
   "outputs": [],
   "source": [
    "subreddits = pd.read_csv('../csv_data/master_subreddit.csv')"
   ]
  },
  {
   "cell_type": "code",
   "execution_count": 50,
   "id": "267af8d4-801e-4186-a48a-24ed1a65d157",
   "metadata": {},
   "outputs": [
    {
     "data": {
      "text/html": [
       "<div>\n",
       "<style scoped>\n",
       "    .dataframe tbody tr th:only-of-type {\n",
       "        vertical-align: middle;\n",
       "    }\n",
       "\n",
       "    .dataframe tbody tr th {\n",
       "        vertical-align: top;\n",
       "    }\n",
       "\n",
       "    .dataframe thead th {\n",
       "        text-align: right;\n",
       "    }\n",
       "</style>\n",
       "<table border=\"1\" class=\"dataframe\">\n",
       "  <thead>\n",
       "    <tr style=\"text-align: right;\">\n",
       "      <th></th>\n",
       "      <th>id</th>\n",
       "      <th>subreddit</th>\n",
       "      <th>title</th>\n",
       "      <th>posttext</th>\n",
       "      <th>time_posted</th>\n",
       "      <th>time_now</th>\n",
       "      <th>time_difference</th>\n",
       "      <th>num_comments</th>\n",
       "      <th>upvote_ratio</th>\n",
       "      <th>url</th>\n",
       "    </tr>\n",
       "  </thead>\n",
       "  <tbody>\n",
       "    <tr>\n",
       "      <th>0</th>\n",
       "      <td>17lfevw</td>\n",
       "      <td>fastfood</td>\n",
       "      <td>McDonald's Revenue Is Way Up Because Menu Pric...</td>\n",
       "      <td>NaN</td>\n",
       "      <td>2023-11-01 16:01:24</td>\n",
       "      <td>2024-04-08 22:47:41.643404</td>\n",
       "      <td>159 days 06:46:17.643404</td>\n",
       "      <td>550</td>\n",
       "      <td>0.97</td>\n",
       "      <td>https://www.delish.com/food-news/a45697179/mcd...</td>\n",
       "    </tr>\n",
       "    <tr>\n",
       "      <th>1</th>\n",
       "      <td>1bux2fj</td>\n",
       "      <td>fastfood</td>\n",
       "      <td>McDonald's has doubled its prices since 2014, ...</td>\n",
       "      <td>NaN</td>\n",
       "      <td>2024-04-03 16:31:03</td>\n",
       "      <td>2024-04-08 22:47:41.643410</td>\n",
       "      <td>5 days 06:16:38.643410</td>\n",
       "      <td>324</td>\n",
       "      <td>0.98</td>\n",
       "      <td>https://scrippsnews.com/stories/this-fast-food...</td>\n",
       "    </tr>\n",
       "    <tr>\n",
       "      <th>2</th>\n",
       "      <td>18ap0ug</td>\n",
       "      <td>fastfood</td>\n",
       "      <td>'Most Big Macs aren't that expensive': A $16 M...</td>\n",
       "      <td>NaN</td>\n",
       "      <td>2023-12-04 17:19:35</td>\n",
       "      <td>2024-04-08 22:47:41.643413</td>\n",
       "      <td>126 days 05:28:06.643413</td>\n",
       "      <td>590</td>\n",
       "      <td>0.95</td>\n",
       "      <td>https://finance.yahoo.com/news/most-big-macs-a...</td>\n",
       "    </tr>\n",
       "    <tr>\n",
       "      <th>3</th>\n",
       "      <td>1ajnc5q</td>\n",
       "      <td>fastfood</td>\n",
       "      <td>McDonald’s CEO: ‘The battleground is with the ...</td>\n",
       "      <td>NaN</td>\n",
       "      <td>2024-02-05 18:16:13</td>\n",
       "      <td>2024-04-08 22:47:41.643415</td>\n",
       "      <td>63 days 04:31:28.643415</td>\n",
       "      <td>534</td>\n",
       "      <td>0.98</td>\n",
       "      <td>https://www.nrn.com/finance/mcdonald-s-ceo-bat...</td>\n",
       "    </tr>\n",
       "    <tr>\n",
       "      <th>4</th>\n",
       "      <td>18kn8v2</td>\n",
       "      <td>fastfood</td>\n",
       "      <td>Boston Market fast-food chain on the brink as ...</td>\n",
       "      <td>NaN</td>\n",
       "      <td>2023-12-17 18:08:16</td>\n",
       "      <td>2024-04-08 22:47:41.643418</td>\n",
       "      <td>113 days 04:39:25.643419</td>\n",
       "      <td>267</td>\n",
       "      <td>0.99</td>\n",
       "      <td>https://www.dailymail.co.uk/news/article-12873...</td>\n",
       "    </tr>\n",
       "  </tbody>\n",
       "</table>\n",
       "</div>"
      ],
      "text/plain": [
       "        id subreddit                                              title  \\\n",
       "0  17lfevw  fastfood  McDonald's Revenue Is Way Up Because Menu Pric...   \n",
       "1  1bux2fj  fastfood  McDonald's has doubled its prices since 2014, ...   \n",
       "2  18ap0ug  fastfood  'Most Big Macs aren't that expensive': A $16 M...   \n",
       "3  1ajnc5q  fastfood  McDonald’s CEO: ‘The battleground is with the ...   \n",
       "4  18kn8v2  fastfood  Boston Market fast-food chain on the brink as ...   \n",
       "\n",
       "  posttext          time_posted                    time_now  \\\n",
       "0      NaN  2023-11-01 16:01:24  2024-04-08 22:47:41.643404   \n",
       "1      NaN  2024-04-03 16:31:03  2024-04-08 22:47:41.643410   \n",
       "2      NaN  2023-12-04 17:19:35  2024-04-08 22:47:41.643413   \n",
       "3      NaN  2024-02-05 18:16:13  2024-04-08 22:47:41.643415   \n",
       "4      NaN  2023-12-17 18:08:16  2024-04-08 22:47:41.643418   \n",
       "\n",
       "            time_difference  num_comments  upvote_ratio  \\\n",
       "0  159 days 06:46:17.643404           550          0.97   \n",
       "1    5 days 06:16:38.643410           324          0.98   \n",
       "2  126 days 05:28:06.643413           590          0.95   \n",
       "3   63 days 04:31:28.643415           534          0.98   \n",
       "4  113 days 04:39:25.643419           267          0.99   \n",
       "\n",
       "                                                 url  \n",
       "0  https://www.delish.com/food-news/a45697179/mcd...  \n",
       "1  https://scrippsnews.com/stories/this-fast-food...  \n",
       "2  https://finance.yahoo.com/news/most-big-macs-a...  \n",
       "3  https://www.nrn.com/finance/mcdonald-s-ceo-bat...  \n",
       "4  https://www.dailymail.co.uk/news/article-12873...  "
      ]
     },
     "execution_count": 50,
     "metadata": {},
     "output_type": "execute_result"
    }
   ],
   "source": [
    "subreddits.head()"
   ]
  },
  {
   "cell_type": "code",
   "execution_count": 51,
   "id": "42e11721-7523-468b-8781-bdb6e929be57",
   "metadata": {},
   "outputs": [
    {
     "data": {
      "text/plain": [
       "Index(['id', 'subreddit', 'title', 'posttext', 'time_posted', 'time_now',\n",
       "       'time_difference', 'num_comments', 'upvote_ratio', 'url'],\n",
       "      dtype='object')"
      ]
     },
     "execution_count": 51,
     "metadata": {},
     "output_type": "execute_result"
    }
   ],
   "source": [
    "subreddits.columns"
   ]
  },
  {
   "cell_type": "code",
   "execution_count": 52,
   "id": "e9e4d61c-c2cf-4d63-b652-6ba78aa4fd5d",
   "metadata": {},
   "outputs": [],
   "source": [
    "subreddits.rename(columns={'posttext': 'selftext'}, inplace=True)"
   ]
  },
  {
   "cell_type": "code",
   "execution_count": 53,
   "id": "a8ed54e3-4a0d-4d8b-976c-98f97fd30e47",
   "metadata": {},
   "outputs": [
    {
     "data": {
      "text/plain": [
       "id                  object\n",
       "subreddit           object\n",
       "title               object\n",
       "selftext            object\n",
       "time_posted         object\n",
       "time_now            object\n",
       "time_difference     object\n",
       "num_comments         int64\n",
       "upvote_ratio       float64\n",
       "url                 object\n",
       "dtype: object"
      ]
     },
     "execution_count": 53,
     "metadata": {},
     "output_type": "execute_result"
    }
   ],
   "source": [
    "subreddits.dtypes"
   ]
  },
  {
   "cell_type": "code",
   "execution_count": 54,
   "id": "f8da2eeb-d5cc-418b-a19a-b91862834880",
   "metadata": {},
   "outputs": [
    {
     "name": "stdout",
     "output_type": "stream",
     "text": [
      "<class 'pandas.core.frame.DataFrame'>\n",
      "RangeIndex: 4872 entries, 0 to 4871\n",
      "Data columns (total 10 columns):\n",
      " #   Column           Non-Null Count  Dtype  \n",
      "---  ------           --------------  -----  \n",
      " 0   id               4872 non-null   object \n",
      " 1   subreddit        4872 non-null   object \n",
      " 2   title            4872 non-null   object \n",
      " 3   selftext         909 non-null    object \n",
      " 4   time_posted      4872 non-null   object \n",
      " 5   time_now         4872 non-null   object \n",
      " 6   time_difference  4872 non-null   object \n",
      " 7   num_comments     4872 non-null   int64  \n",
      " 8   upvote_ratio     4872 non-null   float64\n",
      " 9   url              4872 non-null   object \n",
      "dtypes: float64(1), int64(1), object(8)\n",
      "memory usage: 380.8+ KB\n"
     ]
    }
   ],
   "source": [
    "subreddits.info()"
   ]
  },
  {
   "cell_type": "markdown",
   "id": "d367a0fc-3c01-42b6-b553-ff4b570612cf",
   "metadata": {},
   "source": [
    "#### Imputing Missing Values\n",
    "- Posttext (actual name was selftext)"
   ]
  },
  {
   "cell_type": "code",
   "execution_count": 55,
   "id": "4979a471-bba0-4d4a-959f-a86013f6e7a5",
   "metadata": {},
   "outputs": [],
   "source": [
    "subreddits['selftext'].fillna('title', inplace = True)"
   ]
  },
  {
   "cell_type": "code",
   "execution_count": 56,
   "id": "72bd2a2a-4c15-477f-88de-1a2d9a193d7f",
   "metadata": {},
   "outputs": [
    {
     "name": "stdout",
     "output_type": "stream",
     "text": [
      "Self Text Null is: 0\n"
     ]
    }
   ],
   "source": [
    "subreddits['selftext'].value_counts()\n",
    "print(f'Self Text Null is: {subreddits[\"selftext\"].isnull().sum()}')"
   ]
  },
  {
   "cell_type": "code",
   "execution_count": 57,
   "id": "e735b151-6b2f-42b0-a197-adc9b7e81837",
   "metadata": {},
   "outputs": [
    {
     "data": {
      "text/plain": [
       "id                 0\n",
       "subreddit          0\n",
       "title              0\n",
       "selftext           0\n",
       "time_posted        0\n",
       "time_now           0\n",
       "time_difference    0\n",
       "num_comments       0\n",
       "upvote_ratio       0\n",
       "url                0\n",
       "dtype: int64"
      ]
     },
     "execution_count": 57,
     "metadata": {},
     "output_type": "execute_result"
    }
   ],
   "source": [
    "subreddits.isna().sum()"
   ]
  },
  {
   "cell_type": "code",
   "execution_count": 73,
   "id": "432cead4-6e11-4080-bab3-70e6765b92cf",
   "metadata": {},
   "outputs": [
    {
     "data": {
      "text/plain": [
       "1"
      ]
     },
     "execution_count": 73,
     "metadata": {},
     "output_type": "execute_result"
    }
   ],
   "source": [
    "#master_df.duplicated(title).sum()\n",
    "subreddits.duplicated(subset=['title']).sum()"
   ]
  },
  {
   "cell_type": "code",
   "execution_count": 74,
   "id": "4694629b-ef5b-412a-9fa5-c1e554b83c7d",
   "metadata": {},
   "outputs": [
    {
     "data": {
      "text/plain": [
       "0"
      ]
     },
     "execution_count": 74,
     "metadata": {},
     "output_type": "execute_result"
    }
   ],
   "source": [
    "subreddits.drop_duplicates(subset=['selftext'], inplace=True)\n",
    "\n",
    "subreddits.duplicated(subset=['selftext']).sum()"
   ]
  },
  {
   "cell_type": "code",
   "execution_count": 75,
   "id": "138eb7dd-9a5e-4b38-8354-34fa906e722a",
   "metadata": {},
   "outputs": [
    {
     "data": {
      "text/plain": [
       "(815, 12)"
      ]
     },
     "execution_count": 75,
     "metadata": {},
     "output_type": "execute_result"
    }
   ],
   "source": [
    "subreddits.shape"
   ]
  },
  {
   "cell_type": "code",
   "execution_count": 61,
   "id": "a3222778-e7e6-4dd8-b1e3-6569769bcc3a",
   "metadata": {},
   "outputs": [],
   "source": [
    "def preprocess_dataframe(df):\n",
    "    # Normalize numerical columns\n",
    "    numerical_cols = ['upvote_ratio', 'num_comments']\n",
    "    df[numerical_cols] = StandardScaler().fit_transform(df[numerical_cols])\n",
    "\n",
    "    # Process 'time_posted' column (timestamp)\n",
    "    df['time_posted'] = pd.to_datetime(df['time_posted'])  # No need to specify unit\n",
    "\n",
    "    # Extract hour_of_day and day_of_week from 'time_posted'\n",
    "    df['hour_of_day'] = df['time_posted'].dt.hour\n",
    "    df['day_of_week'] = df['time_posted'].dt.dayofweek\n",
    "\n",
    "    # Drop 'time_posted' column after extracting hour_of_day and day_of_week\n",
    "    df = df.drop('time_posted', axis=1)\n",
    "\n",
    "    return df"
   ]
  },
  {
   "cell_type": "code",
   "execution_count": 62,
   "id": "c6368fbd-3d82-4c21-9230-cbb4001b1bd4",
   "metadata": {},
   "outputs": [
    {
     "name": "stdout",
     "output_type": "stream",
     "text": [
      "(815, 11)\n",
      "           id    subreddit                                              title  \\\n",
      "4722  1031uqk  HealthyFood      What are some healthy alternatives to snacks?   \n",
      "4723  102voj4  HealthyFood                     Healthy cookbook for beginners   \n",
      "4724  102vc8h  HealthyFood                                    Craving cabbage   \n",
      "4725  102q1y6  HealthyFood                     Is Bloom Greens truly healthy?   \n",
      "4726  102pkee  HealthyFood                                   Sugar Free Mayo?   \n",
      "4727  102obu1  HealthyFood  Is it \"Healthy\" to eat like this every day for...   \n",
      "4728  102j6pf  HealthyFood                     Chicken raw or cooked question   \n",
      "4729  102hje6  HealthyFood  Anything more filling and low calorie than cro...   \n",
      "4730  102ftmz  HealthyFood                              A soup for every day?   \n",
      "4732   iyaooy  HealthyFood  /r/HealthyFood Rules - Be sure to go over this...   \n",
      "\n",
      "                                               selftext  \\\n",
      "4722  Mainly looking for something crunchy but not t...   \n",
      "4723  I’m looking for a cookbook for people that wan...   \n",
      "4724    I’m craving cabbage. Anyone know a good recipe?   \n",
      "4725  Title. Anyone have any experience with the bra...   \n",
      "4726  Does anybody know of any mayonnaise or mayonna...   \n",
      "4727  Would you eat Turkey/Beef/Veal/Chicken Shawarm...   \n",
      "4728  I’ve been told to weigh my chicken out raw as ...   \n",
      "4729  So I like making salads at home and I also lov...   \n",
      "4730  Im trying to make the ultimate super soup that...   \n",
      "4732  Welcome to /r/HealthyFood.  This sub is for di...   \n",
      "\n",
      "                        time_now            time_difference  num_comments  \\\n",
      "4722  2024-04-08 22:51:40.183900   460 days 10:55:07.183901      0.976060   \n",
      "4723  2024-04-08 22:51:40.183904   460 days 16:50:54.183905     -0.661261   \n",
      "4724  2024-04-08 22:51:40.183908   460 days 17:08:52.183908     -0.399289   \n",
      "4725  2024-04-08 22:51:40.183912   460 days 21:20:43.183912     -0.504078   \n",
      "4726  2024-04-08 22:51:40.183916   460 days 21:42:03.183916     -0.464782   \n",
      "4727  2024-04-08 22:51:40.183920   460 days 22:34:40.183920     -0.569571   \n",
      "4728  2024-04-08 22:51:40.183923   461 days 01:54:37.183924     -0.648162   \n",
      "4729  2024-04-08 22:51:40.183927   461 days 02:59:57.183927     -0.359994   \n",
      "4730  2024-04-08 22:51:40.183931   461 days 04:07:44.183931     -0.595768   \n",
      "4732  2024-04-08 22:52:14.025660  1293 days 08:50:33.025661     -0.635063   \n",
      "\n",
      "      upvote_ratio                                                url  \\\n",
      "4722      0.770973  https://www.reddit.com/r/HealthyFood/comments/...   \n",
      "4723      0.095863  https://www.reddit.com/r/HealthyFood/comments/...   \n",
      "4724      0.218611  https://www.reddit.com/r/HealthyFood/comments/...   \n",
      "4725      0.218611  https://www.reddit.com/r/HealthyFood/comments/...   \n",
      "4726      1.139215  https://www.reddit.com/r/HealthyFood/comments/...   \n",
      "4727     -0.333752  https://www.reddit.com/r/HealthyFood/comments/...   \n",
      "4728     -0.333752  https://www.reddit.com/r/HealthyFood/comments/...   \n",
      "4729      1.139215  https://www.reddit.com/r/HealthyFood/comments/...   \n",
      "4730     -0.333752  https://www.reddit.com/r/HealthyFood/comments/...   \n",
      "4732      1.077841  https://www.reddit.com/r/HealthyFood/comments/...   \n",
      "\n",
      "      hour_of_day  day_of_week  \n",
      "4722           11            2  \n",
      "4723            6            2  \n",
      "4724            5            2  \n",
      "4725            1            2  \n",
      "4726            1            2  \n",
      "4727            0            2  \n",
      "4728           20            1  \n",
      "4729           19            1  \n",
      "4730           18            1  \n",
      "4732           14            2  \n"
     ]
    }
   ],
   "source": [
    "#Checking the cleaned data\n",
    "processed_subreddits = preprocess_dataframe(subreddits)\n",
    "print(processed_subreddits.shape)\n",
    "print(processed_subreddits.tail(10))"
   ]
  },
  {
   "cell_type": "code",
   "execution_count": 63,
   "id": "6dfad13e-b420-414c-9228-f60bfe6cb1db",
   "metadata": {},
   "outputs": [],
   "source": [
    "'''This function will clean and normalize the text data to make \n",
    "it suitable for further analysis and modeling in NLP tasks. '''\n",
    "\n",
    "def preprocess_text(text):\n",
    " \n",
    "    # Lowercasing the text\n",
    "    text = text.lower()\n",
    "    # Removing special characters and digits\n",
    "    text = re.sub(\"(\\\\d|\\\\W)+\", \" \", text)\n",
    "    # Tokenize into words\n",
    "    words = text.split()\n",
    "    # Remove stopwords\n",
    "    stop_words = set(stopwords.words(\"english\", \"ascii\"))\n",
    "    words = [word for word in words if word not in stop_words]\n",
    "    # Lemmatization\n",
    "    lemmatizer = WordNetLemmatizer()\n",
    "    words = [lemmatizer.lemmatize(word) for word in words]\n",
    "    return \" \".join(words)"
   ]
  },
  {
   "cell_type": "code",
   "execution_count": 64,
   "id": "2d7a8106-56b8-4207-9f48-42dda3eebe8c",
   "metadata": {},
   "outputs": [],
   "source": [
    "'''  \n",
    "The code involves preparing the data through preprocessing steps and dividing it into\n",
    "training and testing sets. Additionally, it creates a vectorizer object to transform\n",
    "the text data into numerical representations appropriate for NLP tasks.\n",
    "'''\n",
    "def prepare_data_for_nlp(df, text_column='selftext', target_column='subreddit'):\n",
    "    \n",
    "    # Preprocess text data\n",
    "    df[text_column] = df[text_column].apply(lambda x: preprocess_text(str(x)))\n",
    "\n",
    "    # Split dataset into features and target variable\n",
    "    X = df[text_column]\n",
    "    y = df[target_column]\n",
    "\n",
    "    # Splitting the dataset into training and testing sets\n",
    "    X_train, X_test, y_train, y_test = train_test_split(X, y, test_size=0.2, random_state=42)\n",
    "\n",
    "    # Vectorization - using TF-IDF\n",
    "    vectorizer = TfidfVectorizer(max_features=5000)\n",
    "    X_train_vect = vectorizer.fit_transform(X_train)\n",
    "    X_test_vect = vectorizer.transform(X_test)\n",
    "\n",
    "    return X_train_vect, X_test_vect, y_train, y_test, vectorizer"
   ]
  },
  {
   "cell_type": "code",
   "execution_count": 65,
   "id": "d036df31-6996-494d-b45d-2a24370b232b",
   "metadata": {},
   "outputs": [],
   "source": [
    "#splitting the data into training and testing sets\n",
    "X_train, X_test, y_train, y_test, vectorizer = prepare_data_for_nlp(processed_subreddits)"
   ]
  },
  {
   "cell_type": "code",
   "execution_count": 66,
   "id": "0ba87bd1-41d2-4ba3-95ea-ab4e6703f2fd",
   "metadata": {},
   "outputs": [
    {
     "data": {
      "text/plain": [
       "<652x4327 sparse matrix of type '<class 'numpy.float64'>'\n",
       "\twith 20729 stored elements in Compressed Sparse Row format>"
      ]
     },
     "execution_count": 66,
     "metadata": {},
     "output_type": "execute_result"
    }
   ],
   "source": [
    "X_train"
   ]
  },
  {
   "cell_type": "code",
   "execution_count": 67,
   "id": "a4e9d663-4d7a-47aa-8ec3-09578a32752a",
   "metadata": {},
   "outputs": [
    {
     "data": {
      "text/plain": [
       "<163x4327 sparse matrix of type '<class 'numpy.float64'>'\n",
       "\twith 4181 stored elements in Compressed Sparse Row format>"
      ]
     },
     "execution_count": 67,
     "metadata": {},
     "output_type": "execute_result"
    }
   ],
   "source": [
    "X_test"
   ]
  },
  {
   "cell_type": "code",
   "execution_count": 68,
   "id": "0d4af0d4-a6b0-4fb6-af0c-2bf644cedcee",
   "metadata": {},
   "outputs": [
    {
     "data": {
      "text/html": [
       "<div>\n",
       "<style scoped>\n",
       "    .dataframe tbody tr th:only-of-type {\n",
       "        vertical-align: middle;\n",
       "    }\n",
       "\n",
       "    .dataframe tbody tr th {\n",
       "        vertical-align: top;\n",
       "    }\n",
       "\n",
       "    .dataframe thead th {\n",
       "        text-align: right;\n",
       "    }\n",
       "</style>\n",
       "<table border=\"1\" class=\"dataframe\">\n",
       "  <thead>\n",
       "    <tr style=\"text-align: right;\">\n",
       "      <th></th>\n",
       "      <th>_____</th>\n",
       "      <th>_b</th>\n",
       "      <th>_kbpflcdmnys</th>\n",
       "      <th>_members</th>\n",
       "      <th>_redditors_are_subscribed_to_the</th>\n",
       "      <th>_subscribe</th>\n",
       "      <th>_subscribers</th>\n",
       "      <th>_subscribers_for_rfastfood</th>\n",
       "      <th>_subscribers_greetings_to_all_the_new</th>\n",
       "      <th>_subscribers_to_the_fastfood_subreddit</th>\n",
       "      <th>...</th>\n",
       "      <th>yummy</th>\n",
       "      <th>za</th>\n",
       "      <th>zaxby</th>\n",
       "      <th>zero</th>\n",
       "      <th>zesty</th>\n",
       "      <th>zevia</th>\n",
       "      <th>zinc</th>\n",
       "      <th>zoo</th>\n",
       "      <th>zucchini</th>\n",
       "      <th>zuchini</th>\n",
       "    </tr>\n",
       "  </thead>\n",
       "  <tbody>\n",
       "    <tr>\n",
       "      <th>0</th>\n",
       "      <td>0.0</td>\n",
       "      <td>0.0</td>\n",
       "      <td>0.0</td>\n",
       "      <td>0.0</td>\n",
       "      <td>0.0</td>\n",
       "      <td>0.0</td>\n",
       "      <td>0.0</td>\n",
       "      <td>0.0</td>\n",
       "      <td>0.0</td>\n",
       "      <td>0.0</td>\n",
       "      <td>...</td>\n",
       "      <td>0.0</td>\n",
       "      <td>0.0</td>\n",
       "      <td>0.0</td>\n",
       "      <td>0.0</td>\n",
       "      <td>0.0</td>\n",
       "      <td>0.0</td>\n",
       "      <td>0.0</td>\n",
       "      <td>0.0</td>\n",
       "      <td>0.0</td>\n",
       "      <td>0.0</td>\n",
       "    </tr>\n",
       "    <tr>\n",
       "      <th>1</th>\n",
       "      <td>0.0</td>\n",
       "      <td>0.0</td>\n",
       "      <td>0.0</td>\n",
       "      <td>0.0</td>\n",
       "      <td>0.0</td>\n",
       "      <td>0.0</td>\n",
       "      <td>0.0</td>\n",
       "      <td>0.0</td>\n",
       "      <td>0.0</td>\n",
       "      <td>0.0</td>\n",
       "      <td>...</td>\n",
       "      <td>0.0</td>\n",
       "      <td>0.0</td>\n",
       "      <td>0.0</td>\n",
       "      <td>0.0</td>\n",
       "      <td>0.0</td>\n",
       "      <td>0.0</td>\n",
       "      <td>0.0</td>\n",
       "      <td>0.0</td>\n",
       "      <td>0.0</td>\n",
       "      <td>0.0</td>\n",
       "    </tr>\n",
       "    <tr>\n",
       "      <th>2</th>\n",
       "      <td>0.0</td>\n",
       "      <td>0.0</td>\n",
       "      <td>0.0</td>\n",
       "      <td>0.0</td>\n",
       "      <td>0.0</td>\n",
       "      <td>0.0</td>\n",
       "      <td>0.0</td>\n",
       "      <td>0.0</td>\n",
       "      <td>0.0</td>\n",
       "      <td>0.0</td>\n",
       "      <td>...</td>\n",
       "      <td>0.0</td>\n",
       "      <td>0.0</td>\n",
       "      <td>0.0</td>\n",
       "      <td>0.0</td>\n",
       "      <td>0.0</td>\n",
       "      <td>0.0</td>\n",
       "      <td>0.0</td>\n",
       "      <td>0.0</td>\n",
       "      <td>0.0</td>\n",
       "      <td>0.0</td>\n",
       "    </tr>\n",
       "    <tr>\n",
       "      <th>3</th>\n",
       "      <td>0.0</td>\n",
       "      <td>0.0</td>\n",
       "      <td>0.0</td>\n",
       "      <td>0.0</td>\n",
       "      <td>0.0</td>\n",
       "      <td>0.0</td>\n",
       "      <td>0.0</td>\n",
       "      <td>0.0</td>\n",
       "      <td>0.0</td>\n",
       "      <td>0.0</td>\n",
       "      <td>...</td>\n",
       "      <td>0.0</td>\n",
       "      <td>0.0</td>\n",
       "      <td>0.0</td>\n",
       "      <td>0.0</td>\n",
       "      <td>0.0</td>\n",
       "      <td>0.0</td>\n",
       "      <td>0.0</td>\n",
       "      <td>0.0</td>\n",
       "      <td>0.0</td>\n",
       "      <td>0.0</td>\n",
       "    </tr>\n",
       "    <tr>\n",
       "      <th>4</th>\n",
       "      <td>0.0</td>\n",
       "      <td>0.0</td>\n",
       "      <td>0.0</td>\n",
       "      <td>0.0</td>\n",
       "      <td>0.0</td>\n",
       "      <td>0.0</td>\n",
       "      <td>0.0</td>\n",
       "      <td>0.0</td>\n",
       "      <td>0.0</td>\n",
       "      <td>0.0</td>\n",
       "      <td>...</td>\n",
       "      <td>0.0</td>\n",
       "      <td>0.0</td>\n",
       "      <td>0.0</td>\n",
       "      <td>0.0</td>\n",
       "      <td>0.0</td>\n",
       "      <td>0.0</td>\n",
       "      <td>0.0</td>\n",
       "      <td>0.0</td>\n",
       "      <td>0.0</td>\n",
       "      <td>0.0</td>\n",
       "    </tr>\n",
       "    <tr>\n",
       "      <th>...</th>\n",
       "      <td>...</td>\n",
       "      <td>...</td>\n",
       "      <td>...</td>\n",
       "      <td>...</td>\n",
       "      <td>...</td>\n",
       "      <td>...</td>\n",
       "      <td>...</td>\n",
       "      <td>...</td>\n",
       "      <td>...</td>\n",
       "      <td>...</td>\n",
       "      <td>...</td>\n",
       "      <td>...</td>\n",
       "      <td>...</td>\n",
       "      <td>...</td>\n",
       "      <td>...</td>\n",
       "      <td>...</td>\n",
       "      <td>...</td>\n",
       "      <td>...</td>\n",
       "      <td>...</td>\n",
       "      <td>...</td>\n",
       "      <td>...</td>\n",
       "    </tr>\n",
       "    <tr>\n",
       "      <th>647</th>\n",
       "      <td>0.0</td>\n",
       "      <td>0.0</td>\n",
       "      <td>0.0</td>\n",
       "      <td>0.0</td>\n",
       "      <td>0.0</td>\n",
       "      <td>0.0</td>\n",
       "      <td>0.0</td>\n",
       "      <td>0.0</td>\n",
       "      <td>0.0</td>\n",
       "      <td>0.0</td>\n",
       "      <td>...</td>\n",
       "      <td>0.0</td>\n",
       "      <td>0.0</td>\n",
       "      <td>0.0</td>\n",
       "      <td>0.0</td>\n",
       "      <td>0.0</td>\n",
       "      <td>0.0</td>\n",
       "      <td>0.0</td>\n",
       "      <td>0.0</td>\n",
       "      <td>0.0</td>\n",
       "      <td>0.0</td>\n",
       "    </tr>\n",
       "    <tr>\n",
       "      <th>648</th>\n",
       "      <td>0.0</td>\n",
       "      <td>0.0</td>\n",
       "      <td>0.0</td>\n",
       "      <td>0.0</td>\n",
       "      <td>0.0</td>\n",
       "      <td>0.0</td>\n",
       "      <td>0.0</td>\n",
       "      <td>0.0</td>\n",
       "      <td>0.0</td>\n",
       "      <td>0.0</td>\n",
       "      <td>...</td>\n",
       "      <td>0.0</td>\n",
       "      <td>0.0</td>\n",
       "      <td>0.0</td>\n",
       "      <td>0.0</td>\n",
       "      <td>0.0</td>\n",
       "      <td>0.0</td>\n",
       "      <td>0.0</td>\n",
       "      <td>0.0</td>\n",
       "      <td>0.0</td>\n",
       "      <td>0.0</td>\n",
       "    </tr>\n",
       "    <tr>\n",
       "      <th>649</th>\n",
       "      <td>0.0</td>\n",
       "      <td>0.0</td>\n",
       "      <td>0.0</td>\n",
       "      <td>0.0</td>\n",
       "      <td>0.0</td>\n",
       "      <td>0.0</td>\n",
       "      <td>0.0</td>\n",
       "      <td>0.0</td>\n",
       "      <td>0.0</td>\n",
       "      <td>0.0</td>\n",
       "      <td>...</td>\n",
       "      <td>0.0</td>\n",
       "      <td>0.0</td>\n",
       "      <td>0.0</td>\n",
       "      <td>0.0</td>\n",
       "      <td>0.0</td>\n",
       "      <td>0.0</td>\n",
       "      <td>0.0</td>\n",
       "      <td>0.0</td>\n",
       "      <td>0.0</td>\n",
       "      <td>0.0</td>\n",
       "    </tr>\n",
       "    <tr>\n",
       "      <th>650</th>\n",
       "      <td>0.0</td>\n",
       "      <td>0.0</td>\n",
       "      <td>0.0</td>\n",
       "      <td>0.0</td>\n",
       "      <td>0.0</td>\n",
       "      <td>0.0</td>\n",
       "      <td>0.0</td>\n",
       "      <td>0.0</td>\n",
       "      <td>0.0</td>\n",
       "      <td>0.0</td>\n",
       "      <td>...</td>\n",
       "      <td>0.0</td>\n",
       "      <td>0.0</td>\n",
       "      <td>0.0</td>\n",
       "      <td>0.0</td>\n",
       "      <td>0.0</td>\n",
       "      <td>0.0</td>\n",
       "      <td>0.0</td>\n",
       "      <td>0.0</td>\n",
       "      <td>0.0</td>\n",
       "      <td>0.0</td>\n",
       "    </tr>\n",
       "    <tr>\n",
       "      <th>651</th>\n",
       "      <td>0.0</td>\n",
       "      <td>0.0</td>\n",
       "      <td>0.0</td>\n",
       "      <td>0.0</td>\n",
       "      <td>0.0</td>\n",
       "      <td>0.0</td>\n",
       "      <td>0.0</td>\n",
       "      <td>0.0</td>\n",
       "      <td>0.0</td>\n",
       "      <td>0.0</td>\n",
       "      <td>...</td>\n",
       "      <td>0.0</td>\n",
       "      <td>0.0</td>\n",
       "      <td>0.0</td>\n",
       "      <td>0.0</td>\n",
       "      <td>0.0</td>\n",
       "      <td>0.0</td>\n",
       "      <td>0.0</td>\n",
       "      <td>0.0</td>\n",
       "      <td>0.0</td>\n",
       "      <td>0.0</td>\n",
       "    </tr>\n",
       "  </tbody>\n",
       "</table>\n",
       "<p>652 rows × 4327 columns</p>\n",
       "</div>"
      ],
      "text/plain": [
       "     _____   _b  _kbpflcdmnys  _members  _redditors_are_subscribed_to_the  \\\n",
       "0      0.0  0.0           0.0       0.0                               0.0   \n",
       "1      0.0  0.0           0.0       0.0                               0.0   \n",
       "2      0.0  0.0           0.0       0.0                               0.0   \n",
       "3      0.0  0.0           0.0       0.0                               0.0   \n",
       "4      0.0  0.0           0.0       0.0                               0.0   \n",
       "..     ...  ...           ...       ...                               ...   \n",
       "647    0.0  0.0           0.0       0.0                               0.0   \n",
       "648    0.0  0.0           0.0       0.0                               0.0   \n",
       "649    0.0  0.0           0.0       0.0                               0.0   \n",
       "650    0.0  0.0           0.0       0.0                               0.0   \n",
       "651    0.0  0.0           0.0       0.0                               0.0   \n",
       "\n",
       "     _subscribe  _subscribers  _subscribers_for_rfastfood  \\\n",
       "0           0.0           0.0                         0.0   \n",
       "1           0.0           0.0                         0.0   \n",
       "2           0.0           0.0                         0.0   \n",
       "3           0.0           0.0                         0.0   \n",
       "4           0.0           0.0                         0.0   \n",
       "..          ...           ...                         ...   \n",
       "647         0.0           0.0                         0.0   \n",
       "648         0.0           0.0                         0.0   \n",
       "649         0.0           0.0                         0.0   \n",
       "650         0.0           0.0                         0.0   \n",
       "651         0.0           0.0                         0.0   \n",
       "\n",
       "     _subscribers_greetings_to_all_the_new  \\\n",
       "0                                      0.0   \n",
       "1                                      0.0   \n",
       "2                                      0.0   \n",
       "3                                      0.0   \n",
       "4                                      0.0   \n",
       "..                                     ...   \n",
       "647                                    0.0   \n",
       "648                                    0.0   \n",
       "649                                    0.0   \n",
       "650                                    0.0   \n",
       "651                                    0.0   \n",
       "\n",
       "     _subscribers_to_the_fastfood_subreddit  ...  yummy   za  zaxby  zero  \\\n",
       "0                                       0.0  ...    0.0  0.0    0.0   0.0   \n",
       "1                                       0.0  ...    0.0  0.0    0.0   0.0   \n",
       "2                                       0.0  ...    0.0  0.0    0.0   0.0   \n",
       "3                                       0.0  ...    0.0  0.0    0.0   0.0   \n",
       "4                                       0.0  ...    0.0  0.0    0.0   0.0   \n",
       "..                                      ...  ...    ...  ...    ...   ...   \n",
       "647                                     0.0  ...    0.0  0.0    0.0   0.0   \n",
       "648                                     0.0  ...    0.0  0.0    0.0   0.0   \n",
       "649                                     0.0  ...    0.0  0.0    0.0   0.0   \n",
       "650                                     0.0  ...    0.0  0.0    0.0   0.0   \n",
       "651                                     0.0  ...    0.0  0.0    0.0   0.0   \n",
       "\n",
       "     zesty  zevia  zinc  zoo  zucchini  zuchini  \n",
       "0      0.0    0.0   0.0  0.0       0.0      0.0  \n",
       "1      0.0    0.0   0.0  0.0       0.0      0.0  \n",
       "2      0.0    0.0   0.0  0.0       0.0      0.0  \n",
       "3      0.0    0.0   0.0  0.0       0.0      0.0  \n",
       "4      0.0    0.0   0.0  0.0       0.0      0.0  \n",
       "..     ...    ...   ...  ...       ...      ...  \n",
       "647    0.0    0.0   0.0  0.0       0.0      0.0  \n",
       "648    0.0    0.0   0.0  0.0       0.0      0.0  \n",
       "649    0.0    0.0   0.0  0.0       0.0      0.0  \n",
       "650    0.0    0.0   0.0  0.0       0.0      0.0  \n",
       "651    0.0    0.0   0.0  0.0       0.0      0.0  \n",
       "\n",
       "[652 rows x 4327 columns]"
      ]
     },
     "execution_count": 68,
     "metadata": {},
     "output_type": "execute_result"
    }
   ],
   "source": [
    "pd.DataFrame(X_train.toarray(), columns = vectorizer.get_feature_names_out())"
   ]
  },
  {
   "cell_type": "code",
   "execution_count": 69,
   "id": "83a8e55c-a3d6-436f-b3a2-d639bfd164f2",
   "metadata": {},
   "outputs": [],
   "source": [
    "#saving it\n",
    "td_idf_df = pd.DataFrame(X_train.toarray(), columns = vectorizer.get_feature_names_out())"
   ]
  },
  {
   "cell_type": "code",
   "execution_count": 70,
   "id": "61ea7c16-b211-4917-ad0a-587954a148bb",
   "metadata": {},
   "outputs": [],
   "source": [
    "#sum the tdidf score\n",
    "word_frequencies = td_idf_df.sum(axis = 0).to_dict()"
   ]
  },
  {
   "cell_type": "code",
   "execution_count": 71,
   "id": "1fb59a10-80ce-4fbc-876a-5187efc3f7fe",
   "metadata": {},
   "outputs": [
    {
     "name": "stdout",
     "output_type": "stream",
     "text": [
      "              Word  Frequency\n",
      "2167          like  19.716412\n",
      "1738       healthy  16.485841\n",
      "1204           eat  16.457205\n",
      "1498          food  14.165058\n",
      "1628          good  13.730474\n",
      "...            ...        ...\n",
      "166   antagonistic   0.017806\n",
      "3692      striving   0.017806\n",
      "2579       offered   0.017806\n",
      "2425      morality   0.017806\n",
      "697       claiming   0.017806\n",
      "\n",
      "[4327 rows x 2 columns]\n"
     ]
    }
   ],
   "source": [
    "# Convert dictionary to DataFrame\n",
    "word_freq_df = pd.DataFrame(word_frequencies.items(), columns=['Word', 'Frequency'])\n",
    "\n",
    "# Sort DataFrame by frequency in descending order\n",
    "word_freq_df_sorted = word_freq_df.sort_values(by='Frequency', ascending=False)\n",
    "\n",
    "print(word_freq_df_sorted)"
   ]
  },
  {
   "cell_type": "code",
   "execution_count": 72,
   "id": "b8e61c73-c01e-47a7-959d-109a8534655e",
   "metadata": {},
   "outputs": [
    {
     "data": {
      "image/png": "[encoded data removed]",
      "text/plain": [
       "<Figure size 1000x600 with 1 Axes>"
      ]
     },
     "metadata": {},
     "output_type": "display_data"
    }
   ],
   "source": [
    "# Select the top 25 rows\n",
    "top_25_words = word_freq_df_sorted.head(25)\n",
    "\n",
    "# Plot the top 25 words as a bar plot\n",
    "plt.figure(figsize=(10, 6))  # Adjust figure size if needed\n",
    "plt.bar(top_25_words['Word'], top_25_words['Frequency'])\n",
    "plt.xlabel('Words')\n",
    "plt.ylabel('Frequency')\n",
    "plt.title('Top 25 Word Frequencies')\n",
    "plt.xticks(rotation=45, ha='right')  # Rotate x-axis labels for better readability\n",
    "plt.tight_layout()  # Adjust layout to prevent clipping of labels\n",
    "plt.show()"
   ]
  },
  {
   "cell_type": "code",
   "execution_count": null,
   "id": "42fc8ac8-1718-410c-a96c-4027546a63a0",
   "metadata": {},
   "outputs": [],
   "source": []
  }
 ],
 "metadata": {
  "kernelspec": {
   "display_name": "Python 3 (ipykernel)",
   "language": "python",
   "name": "python3"
  },
  "language_info": {
   "codemirror_mode": {
    "name": "ipython",
    "version": 3
   },
   "file_extension": ".py",
   "mimetype": "text/x-python",
   "name": "python",
   "nbconvert_exporter": "python",
   "pygments_lexer": "ipython3",
   "version": "3.11.7"
  }
 },
 "nbformat": 4,
 "nbformat_minor": 5
}
