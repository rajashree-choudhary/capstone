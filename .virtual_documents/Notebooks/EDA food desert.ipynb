import pandas as pd
import numpy as np
import seaborn as sns


food_desert = pd.ExcelFile('../Data/FoodAccessResearchAtlasData2019.xlsx')


sheet_names = food_desert.sheet_names


sheet_names


food_data = food_desert.parse(2)


food_data.head()


food_data.shape


food_data.describe()


food_data.isna().sum()


food_data.dtypes


print(food_data.columns)


column_names = food_data.columns.tolist()
print(column_names)


















