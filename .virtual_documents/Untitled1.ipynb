pip install Twint


pip install cchardet
